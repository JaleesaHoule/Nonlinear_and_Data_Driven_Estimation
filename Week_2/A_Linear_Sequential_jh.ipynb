{
  "cells": [
    {
      "cell_type": "markdown",
      "metadata": {
        "id": "QPtJaPiZLCNO"
      },
      "source": [
        "# Linear Sequential Estimation"
      ]
    },
    {
      "cell_type": "code",
      "execution_count": 1,
      "metadata": {
        "id": "zlXLCGrYLCNR"
      },
      "outputs": [],
      "source": [
        "import numpy as np\n",
        "import scipy.stats\n",
        "import matplotlib.pyplot as plt\n",
        "import statsmodels.api as sm\n",
        "\n",
        "np.random.seed(1)"
      ]
    },
    {
      "cell_type": "code",
      "execution_count": 2,
      "metadata": {
        "id": "gCMXY5oKLCNS"
      },
      "outputs": [],
      "source": [
        "# Import functions directly from github\n",
        "# Important: note that we use raw.githubusercontent.com, not github.com\n",
        "\n",
        "import requests\n",
        "url = 'https://raw.githubusercontent.com/florisvb/Nonlinear_and_Data_Driven_Estimation/main/Utility/plot_utility.py'\n",
        "r = requests.get(url)\n",
        "\n",
        "# Store the file to the colab working directory\n",
        "with open('plot_utility.py', 'w') as f:\n",
        "    f.write(r.text)\n",
        "\n",
        "# import the function we want from that file\n",
        "from plot_utility import plot_tme"
      ]
    },
    {
      "cell_type": "markdown",
      "metadata": {
        "id": "nw5exivkLCNS"
      },
      "source": [
        "# Generate sample time series data"
      ]
    },
    {
      "cell_type": "code",
      "execution_count": 3,
      "metadata": {
        "id": "DgDZbEpILCNS"
      },
      "outputs": [],
      "source": [
        "t = np.linspace(0, 6, 500)\n",
        "x = np.array([[1, 1, 2, -0.4e-4]]).T\n",
        "H = np.vstack([t, np.sin(t), np.cos(2*t), np.exp(t)]).T\n",
        "y = H@x"
      ]
    },
    {
      "cell_type": "code",
      "source": [
        "H.shape"
      ],
      "metadata": {
        "id": "4MKmm42kLxCx",
        "outputId": "06fc246c-0a1b-45b2-bca2-4ab708a1beda",
        "colab": {
          "base_uri": "https://localhost:8080/"
        }
      },
      "execution_count": 12,
      "outputs": [
        {
          "output_type": "execute_result",
          "data": {
            "text/plain": [
              "(500, 4)"
            ]
          },
          "metadata": {},
          "execution_count": 12
        }
      ]
    },
    {
      "cell_type": "code",
      "source": [
        "x.shape"
      ],
      "metadata": {
        "id": "rzYYXeQlL5pA",
        "outputId": "ff09b06e-bc11-4b56-d9dd-87ecd3642348",
        "colab": {
          "base_uri": "https://localhost:8080/"
        }
      },
      "execution_count": 14,
      "outputs": [
        {
          "output_type": "execute_result",
          "data": {
            "text/plain": [
              "(4, 1)"
            ]
          },
          "metadata": {},
          "execution_count": 14
        }
      ]
    },
    {
      "cell_type": "markdown",
      "metadata": {
        "id": "27FOywtBLCNS"
      },
      "source": [
        "# Add some normal (gaussian) noise"
      ]
    },
    {
      "cell_type": "code",
      "execution_count": 4,
      "metadata": {
        "id": "XULva3UnLCNT"
      },
      "outputs": [],
      "source": [
        "# Example for Gaussian (normal) random variable\n",
        "\n",
        "noise_mean = 0\n",
        "noise_std = 0.5\n",
        "\n",
        "v = np.column_stack(np.random.normal(noise_mean, noise_std, len(y))).T"
      ]
    },
    {
      "cell_type": "code",
      "execution_count": 5,
      "metadata": {
        "id": "ks5wNF_1LCNT"
      },
      "outputs": [],
      "source": [
        "y_tilde = y+v"
      ]
    },
    {
      "cell_type": "code",
      "source": [
        "#each line is a batch\n",
        "y_tilde"
      ],
      "metadata": {
        "id": "Y8z1fn9gLGol",
        "outputId": "c5da297e-dca3-476a-90bb-04c2e261a8e4",
        "colab": {
          "base_uri": "https://localhost:8080/"
        }
      },
      "execution_count": 6,
      "outputs": [
        {
          "output_type": "execute_result",
          "data": {
            "text/plain": [
              "array([[ 2.81213268],\n",
              "       [ 1.71755083],\n",
              "       [ 1.78165423],\n",
              "       [ 1.53040814],\n",
              "       [ 2.51958985],\n",
              "       [ 0.95495208],\n",
              "       [ 2.9958058 ],\n",
              "       [ 1.75931998],\n",
              "       [ 2.31481412],\n",
              "       [ 2.0448314 ],\n",
              "       [ 2.91364737],\n",
              "       [ 1.16445922],\n",
              "       [ 2.04412175],\n",
              "       [ 2.0229744 ],\n",
              "       [ 2.79043451],\n",
              "       [ 1.68103651],\n",
              "       [ 2.15109231],\n",
              "       [ 1.80360182],\n",
              "       [ 2.26777192],\n",
              "       [ 2.54112571],\n",
              "       [ 1.70139091],\n",
              "       [ 2.82498494],\n",
              "       [ 2.70329273],\n",
              "       [ 2.50258256],\n",
              "       [ 2.69957779],\n",
              "       [ 1.90408993],\n",
              "       [ 2.18031621],\n",
              "       [ 1.76870183],\n",
              "       [ 2.09650039],\n",
              "       [ 2.48852815],\n",
              "       [ 1.86949009],\n",
              "       [ 2.0079943 ],\n",
              "       [ 1.85293287],\n",
              "       [ 1.76317959],\n",
              "       [ 1.83855557],\n",
              "       [ 2.15539404],\n",
              "       [ 1.58978929],\n",
              "       [ 2.25156023],\n",
              "       [ 2.949371  ],\n",
              "       [ 2.47483939],\n",
              "       [ 1.99149748],\n",
              "       [ 1.62647033],\n",
              "       [ 1.6788683 ],\n",
              "       [ 2.88015232],\n",
              "       [ 2.04014361],\n",
              "       [ 1.67641633],\n",
              "       [ 2.06992892],\n",
              "       [ 3.00356162],\n",
              "       [ 1.99190577],\n",
              "       [ 2.21827331],\n",
              "       [ 2.03707971],\n",
              "       [ 1.68769413],\n",
              "       [ 1.26891081],\n",
              "       [ 1.64140064],\n",
              "       [ 1.68710329],\n",
              "       [ 2.05994205],\n",
              "       [ 2.16082933],\n",
              "       [ 2.18124864],\n",
              "       [ 1.83252988],\n",
              "       [ 2.10605004],\n",
              "       [ 1.25975447],\n",
              "       [ 2.23661846],\n",
              "       [ 1.83966354],\n",
              "       [ 1.40697615],\n",
              "       [ 1.77294177],\n",
              "       [ 1.46341968],\n",
              "       [ 2.03943235],\n",
              "       [ 2.20585405],\n",
              "       [ 2.51100378],\n",
              "       [ 0.69220737],\n",
              "       [ 0.64063369],\n",
              "       [ 1.0827148 ],\n",
              "       [ 1.38727193],\n",
              "       [ 1.71771843],\n",
              "       [ 1.4099332 ],\n",
              "       [ 0.21362424],\n",
              "       [ 1.04438537],\n",
              "       [ 1.58441654],\n",
              "       [ 1.25862352],\n",
              "       [ 1.49795935],\n",
              "       [ 0.97942337],\n",
              "       [ 0.96412337],\n",
              "       [ 1.13200435],\n",
              "       [ 1.21830178],\n",
              "       [ 1.08733368],\n",
              "       [ 1.02297583],\n",
              "       [ 0.60383188],\n",
              "       [ 1.10406395],\n",
              "       [ 0.95276265],\n",
              "       [ 1.43363794],\n",
              "       [ 1.44589567],\n",
              "       [ 0.91707486],\n",
              "       [ 0.61545535],\n",
              "       [ 0.46289673],\n",
              "       [ 0.97375746],\n",
              "       [ 0.78103383],\n",
              "       [ 0.55141614],\n",
              "       [ 0.72676635],\n",
              "       [ 0.37725787],\n",
              "       [ 1.01924931],\n",
              "       [ 0.4303474 ],\n",
              "       [ 1.25056563],\n",
              "       [ 0.82519722],\n",
              "       [ 0.90613713],\n",
              "       [ 0.0485621 ],\n",
              "       [ 0.66816943],\n",
              "       [ 0.94202247],\n",
              "       [ 0.0839811 ],\n",
              "       [ 0.41764519],\n",
              "       [ 0.55783486],\n",
              "       [-0.15339417],\n",
              "       [ 0.68325794],\n",
              "       [ 0.94216171],\n",
              "       [ 0.08362791],\n",
              "       [ 0.68387607],\n",
              "       [-0.15139791],\n",
              "       [ 0.48247044],\n",
              "       [-0.30805029],\n",
              "       [ 1.05951468],\n",
              "       [ 0.70318667],\n",
              "       [ 0.48732687],\n",
              "       [ 0.113929  ],\n",
              "       [ 1.14124424],\n",
              "       [ 1.4917615 ],\n",
              "       [-0.41594283],\n",
              "       [ 1.1369653 ],\n",
              "       [ 1.33954554],\n",
              "       [ 0.70256788],\n",
              "       [-0.05722243],\n",
              "       [ 0.98394351],\n",
              "       [ 0.47268105],\n",
              "       [ 0.27306308],\n",
              "       [-0.02711157],\n",
              "       [ 0.87709171],\n",
              "       [ 1.01314202],\n",
              "       [ 0.32089715],\n",
              "       [ 0.9098804 ],\n",
              "       [ 0.09535392],\n",
              "       [ 1.08738639],\n",
              "       [ 0.72966523],\n",
              "       [ 0.63401178],\n",
              "       [ 0.6983225 ],\n",
              "       [ 1.20651464],\n",
              "       [ 1.17112391],\n",
              "       [ 1.0854601 ],\n",
              "       [ 0.91534202],\n",
              "       [ 0.91211175],\n",
              "       [ 1.21003748],\n",
              "       [ 1.04566716],\n",
              "       [ 1.30018385],\n",
              "       [ 0.83424255],\n",
              "       [-0.19683242],\n",
              "       [ 1.57216464],\n",
              "       [ 2.17927545],\n",
              "       [ 1.34035505],\n",
              "       [ 1.10432225],\n",
              "       [ 1.12172977],\n",
              "       [ 1.16678742],\n",
              "       [ 1.27217601],\n",
              "       [ 0.74039697],\n",
              "       [ 1.08155565],\n",
              "       [ 0.88103035],\n",
              "       [ 1.54411086],\n",
              "       [ 1.3122667 ],\n",
              "       [ 1.74975876],\n",
              "       [ 1.45703808],\n",
              "       [ 2.08044502],\n",
              "       [ 1.73756338],\n",
              "       [ 2.77027612],\n",
              "       [ 0.77146565],\n",
              "       [ 1.44147645],\n",
              "       [ 2.26151416],\n",
              "       [ 3.12129477],\n",
              "       [ 1.77967868],\n",
              "       [ 1.97317501],\n",
              "       [ 1.88598513],\n",
              "       [ 2.71310652],\n",
              "       [ 1.9523701 ],\n",
              "       [ 2.48509146],\n",
              "       [ 2.03455051],\n",
              "       [ 1.60790449],\n",
              "       [ 2.45100339],\n",
              "       [ 2.59615576],\n",
              "       [ 3.04177314],\n",
              "       [ 2.39077119],\n",
              "       [ 2.18836029],\n",
              "       [ 2.82965489],\n",
              "       [ 2.72003645],\n",
              "       [ 2.79152851],\n",
              "       [ 2.66627606],\n",
              "       [ 3.33472026],\n",
              "       [ 2.99107167],\n",
              "       [ 3.81045834],\n",
              "       [ 3.46546387],\n",
              "       [ 3.29124326],\n",
              "       [ 2.19973177],\n",
              "       [ 3.36626631],\n",
              "       [ 3.32680006],\n",
              "       [ 3.57355707],\n",
              "       [ 3.74156801],\n",
              "       [ 3.06999053],\n",
              "       [ 3.73330563],\n",
              "       [ 3.09078746],\n",
              "       [ 4.39975448],\n",
              "       [ 2.80642663],\n",
              "       [ 2.64183094],\n",
              "       [ 2.7462472 ],\n",
              "       [ 3.17539679],\n",
              "       [ 3.10979222],\n",
              "       [ 4.69564794],\n",
              "       [ 3.60217537],\n",
              "       [ 3.14143698],\n",
              "       [ 4.41682454],\n",
              "       [ 3.61271323],\n",
              "       [ 3.33335043],\n",
              "       [ 4.43493436],\n",
              "       [ 4.35334599],\n",
              "       [ 3.86822549],\n",
              "       [ 4.83287868],\n",
              "       [ 4.23640758],\n",
              "       [ 5.02240065],\n",
              "       [ 4.50666435],\n",
              "       [ 5.07534216],\n",
              "       [ 4.39054246],\n",
              "       [ 3.76510608],\n",
              "       [ 5.63801486],\n",
              "       [ 4.17799085],\n",
              "       [ 4.38818204],\n",
              "       [ 4.17328133],\n",
              "       [ 4.45680096],\n",
              "       [ 4.71397038],\n",
              "       [ 4.72679046],\n",
              "       [ 4.98871034],\n",
              "       [ 5.58567259],\n",
              "       [ 4.65980686],\n",
              "       [ 4.13296121],\n",
              "       [ 4.18686668],\n",
              "       [ 4.47265987],\n",
              "       [ 3.99494389],\n",
              "       [ 5.27004127],\n",
              "       [ 4.63287122],\n",
              "       [ 4.74989201],\n",
              "       [ 4.92678848],\n",
              "       [ 4.25070589],\n",
              "       [ 4.53856153],\n",
              "       [ 5.32569097],\n",
              "       [ 5.31562294],\n",
              "       [ 4.80167967],\n",
              "       [ 5.94433146],\n",
              "       [ 4.4008777 ],\n",
              "       [ 4.89479679],\n",
              "       [ 4.9642858 ],\n",
              "       [ 3.69443908],\n",
              "       [ 6.06987777],\n",
              "       [ 5.29326293],\n",
              "       [ 4.59563414],\n",
              "       [ 6.15019301],\n",
              "       [ 5.42295818],\n",
              "       [ 5.34925314],\n",
              "       [ 4.83419495],\n",
              "       [ 5.19285067],\n",
              "       [ 4.37778594],\n",
              "       [ 5.53786878],\n",
              "       [ 4.95171094],\n",
              "       [ 5.20337586],\n",
              "       [ 5.73365136],\n",
              "       [ 5.27012456],\n",
              "       [ 5.25296975],\n",
              "       [ 5.25283538],\n",
              "       [ 4.73966968],\n",
              "       [ 5.51490419],\n",
              "       [ 5.85806152],\n",
              "       [ 5.45415655],\n",
              "       [ 5.50448001],\n",
              "       [ 4.60956598],\n",
              "       [ 4.59941331],\n",
              "       [ 4.29689853],\n",
              "       [ 5.61643319],\n",
              "       [ 4.85513898],\n",
              "       [ 5.66303758],\n",
              "       [ 4.55202379],\n",
              "       [ 4.70307999],\n",
              "       [ 4.94740678],\n",
              "       [ 5.33729864],\n",
              "       [ 4.88286294],\n",
              "       [ 4.93301516],\n",
              "       [ 4.80974863],\n",
              "       [ 4.86319486],\n",
              "       [ 4.18858373],\n",
              "       [ 4.75861968],\n",
              "       [ 4.59534225],\n",
              "       [ 4.62985244],\n",
              "       [ 4.87324282],\n",
              "       [ 4.25474237],\n",
              "       [ 4.52005195],\n",
              "       [ 4.38008823],\n",
              "       [ 4.70314361],\n",
              "       [ 4.85188357],\n",
              "       [ 3.94609589],\n",
              "       [ 4.68040148],\n",
              "       [ 5.38332642],\n",
              "       [ 3.57721921],\n",
              "       [ 3.85947311],\n",
              "       [ 3.79545456],\n",
              "       [ 4.05682652],\n",
              "       [ 4.9679048 ],\n",
              "       [ 4.12275982],\n",
              "       [ 3.72786405],\n",
              "       [ 4.34479024],\n",
              "       [ 3.69224053],\n",
              "       [ 4.51170653],\n",
              "       [ 4.06012193],\n",
              "       [ 4.55902356],\n",
              "       [ 3.49079211],\n",
              "       [ 5.29343573],\n",
              "       [ 4.14658285],\n",
              "       [ 4.01763242],\n",
              "       [ 3.62059659],\n",
              "       [ 3.23906575],\n",
              "       [ 3.12350699],\n",
              "       [ 3.44481184],\n",
              "       [ 3.06948567],\n",
              "       [ 3.56471819],\n",
              "       [ 2.96556001],\n",
              "       [ 3.64437605],\n",
              "       [ 3.76714811],\n",
              "       [ 2.89147518],\n",
              "       [ 3.79613131],\n",
              "       [ 3.03632385],\n",
              "       [ 3.68858803],\n",
              "       [ 3.28584824],\n",
              "       [ 3.58395082],\n",
              "       [ 2.48052785],\n",
              "       [ 2.8821501 ],\n",
              "       [ 3.61805799],\n",
              "       [ 2.54043667],\n",
              "       [ 1.78831011],\n",
              "       [ 1.79344391],\n",
              "       [ 1.4697462 ],\n",
              "       [ 1.62454076],\n",
              "       [ 2.43491521],\n",
              "       [ 3.2395943 ],\n",
              "       [ 2.33932174],\n",
              "       [ 2.68284387],\n",
              "       [ 2.42729273],\n",
              "       [ 2.44836219],\n",
              "       [ 2.32240471],\n",
              "       [ 2.28247344],\n",
              "       [ 2.5638738 ],\n",
              "       [ 1.70972247],\n",
              "       [ 2.76791826],\n",
              "       [ 2.68874786],\n",
              "       [ 2.09786197],\n",
              "       [ 2.5655304 ],\n",
              "       [ 1.7804192 ],\n",
              "       [ 1.83157527],\n",
              "       [ 2.14827424],\n",
              "       [ 1.94586961],\n",
              "       [ 1.78835281],\n",
              "       [ 1.64916459],\n",
              "       [ 1.68025379],\n",
              "       [ 2.40316405],\n",
              "       [ 0.93748217],\n",
              "       [ 2.06196013],\n",
              "       [ 1.74508708],\n",
              "       [ 2.20584659],\n",
              "       [ 2.07917021],\n",
              "       [ 0.41113603],\n",
              "       [ 2.07658922],\n",
              "       [ 1.92937438],\n",
              "       [ 1.76226403],\n",
              "       [ 1.5022298 ],\n",
              "       [ 2.1495943 ],\n",
              "       [ 1.50399241],\n",
              "       [ 2.61659859],\n",
              "       [ 1.97135552],\n",
              "       [ 2.74920572],\n",
              "       [ 1.2798666 ],\n",
              "       [ 0.78823738],\n",
              "       [ 2.01839604],\n",
              "       [ 2.08339784],\n",
              "       [ 1.67202239],\n",
              "       [ 0.88350197],\n",
              "       [ 1.42877409],\n",
              "       [ 1.96281081],\n",
              "       [ 1.56410526],\n",
              "       [ 1.60186031],\n",
              "       [ 1.57707139],\n",
              "       [ 1.20408375],\n",
              "       [ 1.41206636],\n",
              "       [ 0.97413186],\n",
              "       [ 2.58152183],\n",
              "       [ 1.47128793],\n",
              "       [ 1.96051246],\n",
              "       [ 1.22479748],\n",
              "       [ 2.14833665],\n",
              "       [ 0.8311213 ],\n",
              "       [ 2.24593331],\n",
              "       [ 1.78715731],\n",
              "       [ 2.88064701],\n",
              "       [ 1.19386382],\n",
              "       [ 1.90838543],\n",
              "       [ 2.07814748],\n",
              "       [ 2.53658306],\n",
              "       [ 1.73556513],\n",
              "       [ 2.01833633],\n",
              "       [ 0.93322307],\n",
              "       [ 1.61995691],\n",
              "       [ 2.29265693],\n",
              "       [ 2.65195593],\n",
              "       [ 1.99322149],\n",
              "       [ 3.1976775 ],\n",
              "       [ 3.0862113 ],\n",
              "       [ 2.21351119],\n",
              "       [ 1.07598684],\n",
              "       [ 1.43399195],\n",
              "       [ 1.97500357],\n",
              "       [ 2.96411699],\n",
              "       [ 2.60468562],\n",
              "       [ 1.44685161],\n",
              "       [ 2.42507449],\n",
              "       [ 3.39265811],\n",
              "       [ 2.446115  ],\n",
              "       [ 2.30707358],\n",
              "       [ 3.7588933 ],\n",
              "       [ 2.80877088],\n",
              "       [ 2.59391414],\n",
              "       [ 3.06092376],\n",
              "       [ 2.94766967],\n",
              "       [ 2.77864119],\n",
              "       [ 3.65242125],\n",
              "       [ 3.66185784],\n",
              "       [ 3.58106161],\n",
              "       [ 3.16659769],\n",
              "       [ 3.84966468],\n",
              "       [ 3.31027486],\n",
              "       [ 3.62807328],\n",
              "       [ 3.97190944],\n",
              "       [ 3.92046608],\n",
              "       [ 4.47253701],\n",
              "       [ 3.86552933],\n",
              "       [ 2.86067062],\n",
              "       [ 3.1859879 ],\n",
              "       [ 4.50503092],\n",
              "       [ 3.72874562],\n",
              "       [ 4.15254426],\n",
              "       [ 3.59888458],\n",
              "       [ 4.5908133 ],\n",
              "       [ 3.96411113],\n",
              "       [ 4.9521024 ],\n",
              "       [ 4.02379033],\n",
              "       [ 4.91614268],\n",
              "       [ 4.76172366],\n",
              "       [ 4.13103157],\n",
              "       [ 5.10965107],\n",
              "       [ 4.17745564],\n",
              "       [ 4.28532489],\n",
              "       [ 5.12583636],\n",
              "       [ 4.52083952],\n",
              "       [ 4.60519731],\n",
              "       [ 4.79882626],\n",
              "       [ 4.53937019],\n",
              "       [ 5.63062155],\n",
              "       [ 5.48101365],\n",
              "       [ 5.2106574 ],\n",
              "       [ 5.25959583],\n",
              "       [ 5.60721565],\n",
              "       [ 6.33299876],\n",
              "       [ 5.95382822],\n",
              "       [ 5.33191729],\n",
              "       [ 6.04242023],\n",
              "       [ 5.66162401],\n",
              "       [ 5.68851583],\n",
              "       [ 6.78793467],\n",
              "       [ 5.71156542],\n",
              "       [ 5.74740143],\n",
              "       [ 5.07649798],\n",
              "       [ 5.41651335],\n",
              "       [ 6.40791086],\n",
              "       [ 5.89907849],\n",
              "       [ 6.56792772],\n",
              "       [ 5.81593403],\n",
              "       [ 6.05230512],\n",
              "       [ 6.83525285],\n",
              "       [ 7.28981374],\n",
              "       [ 6.91637257],\n",
              "       [ 7.27916516],\n",
              "       [ 7.5919821 ],\n",
              "       [ 7.31846378],\n",
              "       [ 6.39720991],\n",
              "       [ 6.8610229 ],\n",
              "       [ 7.28529155],\n",
              "       [ 6.81848083],\n",
              "       [ 7.30677944],\n",
              "       [ 6.34530195],\n",
              "       [ 6.77379176],\n",
              "       [ 7.50490422],\n",
              "       [ 6.17339411],\n",
              "       [ 6.78865057],\n",
              "       [ 7.38329611]])"
            ]
          },
          "metadata": {},
          "execution_count": 6
        }
      ]
    },
    {
      "cell_type": "markdown",
      "metadata": {
        "id": "7fXTR4riLCNT"
      },
      "source": [
        "# Plotting"
      ]
    },
    {
      "cell_type": "code",
      "execution_count": 7,
      "metadata": {
        "id": "_ueIZK8KLCNT",
        "outputId": "f1164b90-52dc-4ec4-ab63-34159360c479",
        "colab": {
          "base_uri": "https://localhost:8080/",
          "height": 425
        }
      },
      "outputs": [
        {
          "output_type": "execute_result",
          "data": {
            "text/plain": [
              "<Axes: xlabel='Time', ylabel='y'>"
            ]
          },
          "metadata": {},
          "execution_count": 7
        },
        {
          "output_type": "display_data",
          "data": {
            "text/plain": [
              "<Figure size 600x400 with 1 Axes>"
            ],
            "image/png": "[encoded data removed]"
          },
          "metadata": {}
        }
      ],
      "source": [
        "plot_tme(t, y, y_tilde)"
      ]
    },
    {
      "cell_type": "markdown",
      "metadata": {
        "id": "iecHCi0HLCNT"
      },
      "source": [
        "# Candidate models"
      ]
    },
    {
      "cell_type": "code",
      "execution_count": 8,
      "metadata": {
        "id": "bLFdQVxCLCNT"
      },
      "outputs": [],
      "source": [
        "model_1_H = np.vstack([t, np.sin(t), np.cos(2*t)]).T"
      ]
    },
    {
      "cell_type": "code",
      "source": [
        "model_1_H.shape\n"
      ],
      "metadata": {
        "id": "kZIoNgMVLRmW",
        "outputId": "8b085c08-1790-4383-d74d-455b87d991f4",
        "colab": {
          "base_uri": "https://localhost:8080/"
        }
      },
      "execution_count": 13,
      "outputs": [
        {
          "output_type": "execute_result",
          "data": {
            "text/plain": [
              "(500, 3)"
            ]
          },
          "metadata": {},
          "execution_count": 13
        }
      ]
    },
    {
      "cell_type": "code",
      "source": [
        "x_1 = np.array([[0, 1, 2]]).T"
      ],
      "metadata": {
        "id": "T3yzmo-SL-Y_"
      },
      "execution_count": 22,
      "outputs": []
    },
    {
      "cell_type": "markdown",
      "metadata": {
        "id": "aF7Qw-S5LCNU"
      },
      "source": [
        "# Exercise\n",
        "\n",
        "Implement Linear Sequential Estimation, and plot the three parameters of $x$ over time"
      ]
    },
    {
      "cell_type": "code",
      "execution_count": 23,
      "metadata": {
        "id": "ZPVU5KwTLCNU"
      },
      "outputs": [],
      "source": [
        "y_1 = model_1_H@x_1"
      ]
    },
    {
      "cell_type": "code",
      "source": [
        "\n",
        "v_1 = np.column_stack(np.random.normal(noise_mean, noise_std, len(y_1))).T"
      ],
      "metadata": {
        "id": "dXn4188qMFSg"
      },
      "execution_count": 24,
      "outputs": []
    },
    {
      "cell_type": "code",
      "source": [
        "y_tilde_1 = y_1+v_1"
      ],
      "metadata": {
        "id": "D8AaZO1HMQ-Z"
      },
      "execution_count": 25,
      "outputs": []
    },
    {
      "cell_type": "code",
      "source": [
        "plot_tme(t, y_1, y_tilde_1)"
      ],
      "metadata": {
        "id": "Sn7FTs_pMRFo",
        "outputId": "c2859008-1f87-45f8-fcb8-a51b97c191ff",
        "colab": {
          "base_uri": "https://localhost:8080/",
          "height": 425
        }
      },
      "execution_count": 26,
      "outputs": [
        {
          "output_type": "execute_result",
          "data": {
            "text/plain": [
              "<Axes: xlabel='Time', ylabel='y'>"
            ]
          },
          "metadata": {},
          "execution_count": 26
        },
        {
          "output_type": "display_data",
          "data": {
            "text/plain": [
              "<Figure size 600x400 with 1 Axes>"
            ],
            "image/png": "[encoded data removed]"
          },
          "metadata": {}
        }
      ]
    }
  ],
  "metadata": {
    "kernelspec": {
      "display_name": "PY38",
      "language": "python",
      "name": "py38"
    },
    "language_info": {
      "codemirror_mode": {
        "name": "ipython",
        "version": 3
      },
      "file_extension": ".py",
      "mimetype": "text/x-python",
      "name": "python",
      "nbconvert_exporter": "python",
      "pygments_lexer": "ipython3",
      "version": "3.8.6"
    },
    "colab": {
      "provenance": []
    }
  },
  "nbformat": 4,
  "nbformat_minor": 0
}