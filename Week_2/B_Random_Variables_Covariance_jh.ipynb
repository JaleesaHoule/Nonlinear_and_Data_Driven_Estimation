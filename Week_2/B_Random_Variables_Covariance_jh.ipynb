{
  "cells": [
    {
      "cell_type": "code",
      "execution_count": null,
      "metadata": {
        "id": "NEmQiBrrI0DK"
      },
      "outputs": [],
      "source": [
        "import numpy as np\n",
        "import scipy.stats\n",
        "import matplotlib.pyplot as plt"
      ]
    },
    {
      "cell_type": "markdown",
      "metadata": {
        "id": "6hmrkv23I0DL"
      },
      "source": [
        "# Random Variables\n",
        "\n",
        "Let $v$ be a random variable.\n",
        "\n",
        "Expected value $E[v]$ is the mean:\n",
        "* $E[v] = \\bar{v} = \\frac{1}{N}\\sum_{1}^{N}v_i$\n",
        "\n",
        "Expected value of a vector:\n",
        "* $E[\\mathbf{v}] = \\mathbf{\\bar{v}} = [\\bar{x}_1,...,\\bar{x}_n]^\\top$\n",
        "\n",
        "Variance is $E[(v-E[v])^2]$:\n",
        "* $\\sigma^2=E[(v-\\bar{v})^2]=\\frac{1}{N}\\sum_{1}^{N}(v_i-\\bar{v})^2$\n",
        "\n",
        "Standard deviation is the square root of variance:\n",
        "* $\\sigma$\n",
        "\n",
        "Covariance matrix is $E\\big[ (\\mathbf{x}-E[\\mathbf{x}])(\\mathbf{x}-E[\\mathbf{x}])^{\\top} \\big]$, size $N \\times N$:\n",
        "* $R_{ij}=\\frac{1}{N}\\sum_{k=1}^{N}(x_{ik}-\\bar{x}_i)(x_{jk}-\\bar{x}_j)$\n",
        "* $R = \\mathbf{v} \\mathbf{v}^{\\top}$"
      ]
    },
    {
      "cell_type": "code",
      "execution_count": null,
      "metadata": {
        "id": "ZvISnpanI0DM"
      },
      "outputs": [],
      "source": [
        "t = np.linspace(0, 6, 2000)\n",
        "\n",
        "noise_mean = 0\n",
        "noise_std_1 = 90\n",
        "v = np.column_stack(np.random.normal(noise_mean, noise_std_1, len(t))).T"
      ]
    },
    {
      "cell_type": "code",
      "execution_count": null,
      "metadata": {
        "id": "dtga-1RfI0DM"
      },
      "outputs": [],
      "source": [
        "N = scipy.stats.norm(noise_mean, noise_std_1)\n",
        "xr = np.linspace(-300, 300, 1000)\n",
        "pdf = N.pdf(xr)"
      ]
    },
    {
      "cell_type": "markdown",
      "metadata": {
        "id": "9Ltf6qhFI0DM"
      },
      "source": [
        "# Histogram"
      ]
    },
    {
      "cell_type": "code",
      "execution_count": null,
      "metadata": {
        "id": "zIdGYYExI0DM",
        "outputId": "7aa5caba-a566-428d-941c-c6424910723d"
      },
      "outputs": [
        {
          "data": {
            "text/plain": [
              "[<matplotlib.lines.Line2D at 0x7efc97c69850>]"
            ]
          },
          "execution_count": 9,
          "metadata": {},
          "output_type": "execute_result"
        },
        {
          "data": {
            "image/png": "[encoded data removed]",
            "text/plain": [
              "<Figure size 640x480 with 1 Axes>"
            ]
          },
          "metadata": {},
          "output_type": "display_data"
        }
      ],
      "source": [
        "plt.hist(v, density=True)\n",
        "plt.plot(xr, pdf, color='red')"
      ]
    },
    {
      "cell_type": "markdown",
      "metadata": {
        "id": "-B_rL26nI0DN"
      },
      "source": [
        "# Covariance matrix"
      ]
    },
    {
      "cell_type": "code",
      "execution_count": null,
      "metadata": {
        "id": "-UEFY8SsI0DN",
        "outputId": "b75286ea-9186-4d94-8483-cb8bf74314d6"
      },
      "outputs": [
        {
          "name": "stdout",
          "output_type": "stream",
          "text": [
            "[[ 1034.58089086  -806.34828259 -1217.45152626  1079.80662206]\n",
            " [ -806.34828259   628.46468419   948.87693752  -841.59703984]\n",
            " [-1217.45152626   948.87693752  1432.64604236 -1270.6712754 ]\n",
            " [ 1079.80662206  -841.59703984 -1270.6712754   1127.00935358]]\n"
          ]
        }
      ],
      "source": [
        "v = np.column_stack(np.random.normal(noise_mean, noise_std_1, 4)).T\n",
        "print(v@v.T)"
      ]
    },
    {
      "cell_type": "code",
      "execution_count": null,
      "metadata": {
        "id": "quxU2LRsI0DN"
      },
      "outputs": [],
      "source": [
        "R = []\n",
        "\n",
        "for i in range(100000):\n",
        "    v = np.column_stack(np.random.normal(noise_mean, noise_std_1, 4)).T\n",
        "    Ri = v@v.T\n",
        "    R.append(Ri)"
      ]
    },
    {
      "cell_type": "code",
      "execution_count": null,
      "metadata": {
        "id": "dHn1qFDpI0DN"
      },
      "outputs": [],
      "source": [
        "#average of v@v^T many times\n",
        "Rstack = np.dstack(R)"
      ]
    },
    {
      "cell_type": "code",
      "execution_count": null,
      "metadata": {
        "id": "Gj8xvT_wI0DN",
        "outputId": "9718e88b-6c68-464a-98cb-ab97151076c0"
      },
      "outputs": [
        {
          "name": "stdout",
          "output_type": "stream",
          "text": [
            "[[8123.11299693  -17.32750566   14.77308591   11.28188483]\n",
            " [ -17.32750566 8108.71027728   14.49382614   21.74316402]\n",
            " [  14.77308591   14.49382614 8025.70413362  -32.78696053]\n",
            " [  11.28188483   21.74316402  -32.78696053 8064.92930989]]\n"
          ]
        }
      ],
      "source": [
        "print( np.mean(Rstack, 2) )"
      ]
    },
    {
      "cell_type": "code",
      "execution_count": null,
      "metadata": {
        "id": "XkQk0lmFI0DN",
        "outputId": "e75fd10f-2e37-445a-bd49-e6ddcadb3c3f"
      },
      "outputs": [
        {
          "name": "stdout",
          "output_type": "stream",
          "text": [
            "[[8100.    0.    0.    0.]\n",
            " [   0. 8100.    0.    0.]\n",
            " [   0.    0. 8100.    0.]\n",
            " [   0.    0.    0. 8100.]]\n"
          ]
        }
      ],
      "source": [
        "print( noise_std_1**2*np.eye(4) )"
      ]
    }
  ],
  "metadata": {
    "kernelspec": {
      "display_name": "PY38",
      "language": "python",
      "name": "py38"
    },
    "language_info": {
      "codemirror_mode": {
        "name": "ipython",
        "version": 3
      },
      "file_extension": ".py",
      "mimetype": "text/x-python",
      "name": "python",
      "nbconvert_exporter": "python",
      "pygments_lexer": "ipython3",
      "version": "3.8.6"
    },
    "colab": {
      "provenance": []
    }
  },
  "nbformat": 4,
  "nbformat_minor": 0
}