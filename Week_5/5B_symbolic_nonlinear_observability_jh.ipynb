{
  "cells": [
    {
      "cell_type": "markdown",
      "metadata": {
        "id": "l8mcInJKWjau"
      },
      "source": [
        "# Symbolic nonlinear observability for monocular camera example"
      ]
    },
    {
      "cell_type": "code",
      "execution_count": 1,
      "metadata": {
        "id": "Y1-Gc4q_Wjaw"
      },
      "outputs": [],
      "source": [
        "import numpy as np\n",
        "import sympy as sp"
      ]
    },
    {
      "cell_type": "code",
      "execution_count": 2,
      "metadata": {
        "id": "tkPxV6E_Wjaw"
      },
      "outputs": [],
      "source": [
        "# Import functions directly from github\n",
        "# Important: note that we use raw.githubusercontent.com, not github.com\n",
        "\n",
        "import requests\n",
        "url = 'https://raw.githubusercontent.com/florisvb/Nonlinear_and_Data_Driven_Estimation/main/Utility/symbolic_derivatives.py'\n",
        "r = requests.get(url)\n",
        "\n",
        "# Store the file to the colab working directory\n",
        "with open('symbolic_derivatives.py', 'w') as f:\n",
        "    f.write(r.text)\n",
        "\n",
        "# import the function we want from that file\n",
        "import symbolic_derivatives"
      ]
    },
    {
      "cell_type": "markdown",
      "metadata": {
        "id": "5zhlOvE0Wjaw"
      },
      "source": [
        "# Define states"
      ]
    },
    {
      "cell_type": "code",
      "execution_count": 14,
      "metadata": {
        "id": "Urll4q4oWjaw"
      },
      "outputs": [],
      "source": [
        "g, d = sp.symbols(['g', 'd'])\n",
        "x = [g, d]"
      ]
    },
    {
      "cell_type": "markdown",
      "metadata": {
        "id": "f-hZm-n9Wjax"
      },
      "source": [
        "# Define dynamics"
      ]
    },
    {
      "cell_type": "code",
      "execution_count": 15,
      "metadata": {
        "id": "EQzysO4ZWjax"
      },
      "outputs": [],
      "source": [
        "f_0 = sp.Matrix([0,\n",
        "                 0])\n",
        "f_1 = sp.Matrix([1,\n",
        "                 0])"
      ]
    },
    {
      "cell_type": "markdown",
      "metadata": {
        "id": "2DWmk6c9Wjax"
      },
      "source": [
        "# Define measurements"
      ]
    },
    {
      "cell_type": "code",
      "execution_count": 16,
      "metadata": {
        "id": "Y7gFnkqhWjax"
      },
      "outputs": [],
      "source": [
        "h = sp.Matrix([g/d])"
      ]
    },
    {
      "cell_type": "markdown",
      "metadata": {
        "id": "n6Afgx0TWjax"
      },
      "source": [
        "# Calculate each term in G"
      ]
    },
    {
      "cell_type": "code",
      "execution_count": 17,
      "metadata": {
        "id": "4ycCtZbjWjax"
      },
      "outputs": [],
      "source": [
        "L_f0_h = symbolic_derivatives.directional_derivative(h, x, f_0)\n",
        "L_f1_h = symbolic_derivatives.directional_derivative(h, x, f_1)\n",
        "#L_f1_f1_h = symbolic_derivatives.directional_derivative(L_f1_h, x, f_1) #floris needs to verify this"
      ]
    },
    {
      "cell_type": "code",
      "source": [
        "L_f1_h"
      ],
      "metadata": {
        "id": "kvaW4pzYXFDF",
        "outputId": "1d362e88-c0ae-4e32-c35a-e519fcf63ab9",
        "colab": {
          "base_uri": "https://localhost:8080/",
          "height": 38
        }
      },
      "execution_count": 18,
      "outputs": [
        {
          "output_type": "execute_result",
          "data": {
            "text/plain": [
              "Matrix([[1/d]])"
            ],
            "text/latex": "$\\displaystyle \\left[\\begin{matrix}\\frac{1}{d}\\end{matrix}\\right]$"
          },
          "metadata": {},
          "execution_count": 18
        }
      ]
    },
    {
      "cell_type": "markdown",
      "metadata": {
        "id": "-EB_I5qvWjax"
      },
      "source": [
        "# Assemble G, take Jacobian"
      ]
    },
    {
      "cell_type": "code",
      "execution_count": 19,
      "metadata": {
        "scrolled": true,
        "id": "0uZt6PdnWjax"
      },
      "outputs": [],
      "source": [
        "G = sp.Matrix([h, L_f0_h, L_f1_h])"
      ]
    },
    {
      "cell_type": "code",
      "source": [
        "G"
      ],
      "metadata": {
        "id": "sYKIl66MX4u3",
        "outputId": "d00c9b4e-792f-48e0-c340-6356f2b4187b",
        "colab": {
          "base_uri": "https://localhost:8080/",
          "height": 78
        }
      },
      "execution_count": 20,
      "outputs": [
        {
          "output_type": "execute_result",
          "data": {
            "text/plain": [
              "Matrix([\n",
              "[g/d],\n",
              "[  0],\n",
              "[1/d]])"
            ],
            "text/latex": "$\\displaystyle \\left[\\begin{matrix}\\frac{g}{d}\\\\0\\\\\\frac{1}{d}\\end{matrix}\\right]$"
          },
          "metadata": {},
          "execution_count": 20
        }
      ]
    },
    {
      "cell_type": "code",
      "execution_count": 21,
      "metadata": {
        "id": "fn_YM12EWjax",
        "outputId": "f57d1db7-8d6d-47a3-93f1-e4089471c820",
        "colab": {
          "base_uri": "https://localhost:8080/",
          "height": 78
        }
      },
      "outputs": [
        {
          "output_type": "execute_result",
          "data": {
            "text/plain": [
              "Matrix([\n",
              "[1/d, -g/d**2],\n",
              "[  0,       0],\n",
              "[  0, -1/d**2]])"
            ],
            "text/latex": "$\\displaystyle \\left[\\begin{matrix}\\frac{1}{d} & - \\frac{g}{d^{2}}\\\\0 & 0\\\\0 & - \\frac{1}{d^{2}}\\end{matrix}\\right]$"
          },
          "metadata": {},
          "execution_count": 21
        }
      ],
      "source": [
        "G.jacobian(x) #this is equivalent to the observability matrix in linear case"
      ]
    },
    {
      "cell_type": "markdown",
      "metadata": {
        "id": "CvJeKrAzWjay"
      },
      "source": [
        "# Plug in x0"
      ]
    },
    {
      "cell_type": "code",
      "execution_count": 22,
      "metadata": {
        "id": "bREpXAMyWjay"
      },
      "outputs": [],
      "source": [
        "x0 = {g: 1, d: 2}"
      ]
    },
    {
      "cell_type": "code",
      "execution_count": 23,
      "metadata": {
        "colab": {
          "base_uri": "https://localhost:8080/",
          "height": 78
        },
        "id": "IvnkpWyQWjay",
        "outputId": "bdbd98d6-400b-4a36-a352-f557431e3d27"
      },
      "outputs": [
        {
          "output_type": "execute_result",
          "data": {
            "text/plain": [
              "Matrix([\n",
              "[1/2, -1/4],\n",
              "[  0,    0],\n",
              "[  0, -1/4]])"
            ],
            "text/latex": "$\\displaystyle \\left[\\begin{matrix}\\frac{1}{2} & - \\frac{1}{4}\\\\0 & 0\\\\0 & - \\frac{1}{4}\\end{matrix}\\right]$"
          },
          "metadata": {},
          "execution_count": 23
        }
      ],
      "source": [
        "G.jacobian(x).subs(x0)"
      ]
    },
    {
      "cell_type": "code",
      "execution_count": 24,
      "metadata": {
        "outputId": "77134220-6755-415a-b944-92e66e1544b6",
        "colab": {
          "base_uri": "https://localhost:8080/"
        },
        "id": "g2znpaeCYZhI"
      },
      "outputs": [
        {
          "output_type": "execute_result",
          "data": {
            "text/plain": [
              "2"
            ]
          },
          "metadata": {},
          "execution_count": 24
        }
      ],
      "source": [
        "G.jacobian(x).subs(x0).rank() # rank of non square nxm matrix is min{n,m} so this is full rank"
      ]
    },
    {
      "cell_type": "markdown",
      "metadata": {
        "id": "wmu_4KXsWjay"
      },
      "source": [
        "# Shortcut function to get G:"
      ]
    },
    {
      "cell_type": "markdown",
      "metadata": {
        "id": "wVbLT4XCWjay"
      },
      "source": [
        "### First derivatives"
      ]
    },
    {
      "cell_type": "code",
      "execution_count": 26,
      "metadata": {
        "id": "RUklWyU8Wjay",
        "outputId": "333e86de-8a66-45d7-ed18-5b0fd544c012",
        "colab": {
          "base_uri": "https://localhost:8080/"
        }
      },
      "outputs": [
        {
          "output_type": "execute_result",
          "data": {
            "text/plain": [
              "[Matrix([[g/d]]), Matrix([[0]]), Matrix([[1/d]])]"
            ]
          },
          "metadata": {},
          "execution_count": 26
        }
      ],
      "source": [
        "G1 =  symbolic_derivatives.get_bigO( h,\n",
        "                                    x,\n",
        "                                    [f_0,\n",
        "                                     f_1],\n",
        "                                   )\n",
        "G1"
      ]
    },
    {
      "cell_type": "markdown",
      "metadata": {
        "id": "qRz8IcZFWjay"
      },
      "source": [
        "### Second derivatives"
      ]
    },
    {
      "cell_type": "code",
      "execution_count": 27,
      "metadata": {
        "id": "8bAVqAXWWjay",
        "outputId": "178b0a75-5110-43d5-b710-09ca02ee0999",
        "colab": {
          "base_uri": "https://localhost:8080/"
        }
      },
      "outputs": [
        {
          "output_type": "execute_result",
          "data": {
            "text/plain": [
              "[Matrix([\n",
              " [g/d],\n",
              " [  0],\n",
              " [1/d]]),\n",
              " Matrix([\n",
              " [0],\n",
              " [0],\n",
              " [0]]),\n",
              " Matrix([\n",
              " [1/d],\n",
              " [  0],\n",
              " [  0]])]"
            ]
          },
          "metadata": {},
          "execution_count": 27
        }
      ],
      "source": [
        "G2 =  symbolic_derivatives.get_bigO( sp.Matrix.vstack(*G1),\n",
        "                                    x,\n",
        "                                    [f_0,\n",
        "                                     f_1],\n",
        "                                   )\n",
        "G2"
      ]
    },
    {
      "cell_type": "code",
      "execution_count": 28,
      "metadata": {
        "id": "pm1GGToVWjay",
        "outputId": "87a43eb3-78c8-461d-a574-775992dddff5",
        "colab": {
          "base_uri": "https://localhost:8080/",
          "height": 261
        }
      },
      "outputs": [
        {
          "output_type": "execute_result",
          "data": {
            "text/plain": [
              "Matrix([\n",
              "[g/d],\n",
              "[  0],\n",
              "[1/d],\n",
              "[g/d],\n",
              "[  0],\n",
              "[1/d],\n",
              "[  0],\n",
              "[  0],\n",
              "[  0],\n",
              "[1/d],\n",
              "[  0],\n",
              "[  0]])"
            ],
            "text/latex": "$\\displaystyle \\left[\\begin{matrix}\\frac{g}{d}\\\\0\\\\\\frac{1}{d}\\\\\\frac{g}{d}\\\\0\\\\\\frac{1}{d}\\\\0\\\\0\\\\0\\\\\\frac{1}{d}\\\\0\\\\0\\end{matrix}\\right]$"
          },
          "metadata": {},
          "execution_count": 28
        }
      ],
      "source": [
        "G = sp.Matrix.vstack(*G1, *G2)\n",
        "G"
      ]
    },
    {
      "cell_type": "code",
      "execution_count": null,
      "metadata": {
        "id": "hkHM7RwUWjay"
      },
      "outputs": [],
      "source": []
    }
  ],
  "metadata": {
    "kernelspec": {
      "display_name": "PY38",
      "language": "python",
      "name": "py38"
    },
    "language_info": {
      "codemirror_mode": {
        "name": "ipython",
        "version": 3
      },
      "file_extension": ".py",
      "mimetype": "text/x-python",
      "name": "python",
      "nbconvert_exporter": "python",
      "pygments_lexer": "ipython3",
      "version": "3.8.6"
    },
    "colab": {
      "provenance": []
    }
  },
  "nbformat": 4,
  "nbformat_minor": 0
}